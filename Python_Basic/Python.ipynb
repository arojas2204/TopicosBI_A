{
 "cells": [
  {
   "cell_type": "markdown",
   "id": "5f8df293",
   "metadata": {},
   "source": [
    "# Python for big data\n",
    "\n",
    "1. Variebles\n",
    "2. String\n",
    "3. Fuction print\n",
    "4. Booleanos y Condicionales\n",
    "5. Loops\n",
    "6. Funciones\n",
    "7. Manejo de exepciones"
   ]
  },
  {
   "cell_type": "markdown",
   "id": "de5d9387",
   "metadata": {},
   "source": [
    "# 1. Variables\n",
    "resultados"
   ]
  },
  {
   "cell_type": "code",
   "execution_count": null,
   "id": "4971ebc7",
   "metadata": {},
   "outputs": [
    {
     "ename": "NameError",
     "evalue": "name 'resultado' is not defined",
     "output_type": "error",
     "traceback": [
      "\u001b[31m---------------------------------------------------------------------------\u001b[39m",
      "\u001b[31mNameError\u001b[39m                                 Traceback (most recent call last)",
      "\u001b[36mCell\u001b[39m\u001b[36m \u001b[39m\u001b[32mIn[1]\u001b[39m\u001b[32m, line 2\u001b[39m\n\u001b[32m      1\u001b[39m \u001b[38;5;66;03m# Version\u001b[39;00m\n\u001b[32m----> \u001b[39m\u001b[32m2\u001b[39m \u001b[43mresultado\u001b[49m\n",
      "\u001b[31mNameError\u001b[39m: name 'resultado' is not defined"
     ]
    }
   ],
   "source": [
    "# Version\n",
    "resultado"
   ]
  },
  {
   "cell_type": "code",
   "execution_count": 2,
   "id": "abb11258",
   "metadata": {},
   "outputs": [],
   "source": [
    "#Declarando variables\n",
    "monto_deuda = 1000 \n",
    "moneda = \"soles\""
   ]
  },
  {
   "cell_type": "code",
   "execution_count": 3,
   "id": "13628e07",
   "metadata": {},
   "outputs": [
    {
     "data": {
      "text/plain": [
       "1000"
      ]
     },
     "execution_count": 3,
     "metadata": {},
     "output_type": "execute_result"
    }
   ],
   "source": [
    "#Mostrar variables\n",
    "monto_deuda"
   ]
  },
  {
   "cell_type": "code",
   "execution_count": 4,
   "id": "eb21baf2",
   "metadata": {},
   "outputs": [
    {
     "data": {
      "text/plain": [
       "'soles'"
      ]
     },
     "execution_count": 4,
     "metadata": {},
     "output_type": "execute_result"
    }
   ],
   "source": [
    "moneda"
   ]
  },
  {
   "cell_type": "code",
   "execution_count": null,
   "id": "fecf8070",
   "metadata": {},
   "outputs": [],
   "source": [
    "#Interactuar con el usuario\n",
    "monto_interes = int(input(\"Ingrese el monto de interes: \"))"
   ]
  },
  {
   "cell_type": "code",
   "execution_count": 5,
   "id": "2765e6ee",
   "metadata": {},
   "outputs": [
    {
     "data": {
      "text/plain": [
       "4000"
      ]
     },
     "execution_count": 5,
     "metadata": {},
     "output_type": "execute_result"
    }
   ],
   "source": [
    "#Operando con variables\n",
    "resultado = monto_deuda*4\n",
    "resultado"
   ]
  },
  {
   "cell_type": "code",
   "execution_count": 6,
   "id": "24c00d43",
   "metadata": {},
   "outputs": [
    {
     "data": {
      "text/plain": [
       "int"
      ]
     },
     "execution_count": 6,
     "metadata": {},
     "output_type": "execute_result"
    }
   ],
   "source": [
    "#Tipo de variables\n",
    "type(monto_deuda)\n",
    "type(moneda)\n",
    "type(resultado)"
   ]
  },
  {
   "cell_type": "code",
   "execution_count": 7,
   "id": "0415a544",
   "metadata": {},
   "outputs": [
    {
     "data": {
      "text/plain": [
       "16000"
      ]
     },
     "execution_count": 7,
     "metadata": {},
     "output_type": "execute_result"
    }
   ],
   "source": [
    "#Operar variables\n",
    "4*resultado"
   ]
  },
  {
   "cell_type": "code",
   "execution_count": 8,
   "id": "2dcc6d7c",
   "metadata": {},
   "outputs": [
    {
     "data": {
      "text/plain": [
       "'1000'"
      ]
     },
     "execution_count": 8,
     "metadata": {},
     "output_type": "execute_result"
    }
   ],
   "source": [
    "#Cambiando el tipo de variable\n",
    "str_monto_deuda = str(monto_deuda)\n",
    "str_monto_deuda"
   ]
  },
  {
   "cell_type": "code",
   "execution_count": 9,
   "id": "25ecc53f",
   "metadata": {},
   "outputs": [
    {
     "data": {
      "text/plain": [
       "1000"
      ]
     },
     "execution_count": 9,
     "metadata": {},
     "output_type": "execute_result"
    }
   ],
   "source": [
    "int_monto_deuda = int(str_monto_deuda)\n",
    "int_monto_deuda"
   ]
  },
  {
   "cell_type": "markdown",
   "id": "b4229890",
   "metadata": {},
   "source": [
    "# 2. String"
   ]
  }
 ],
 "metadata": {
  "language_info": {
   "name": "python"
  }
 },
 "nbformat": 4,
 "nbformat_minor": 5
}
